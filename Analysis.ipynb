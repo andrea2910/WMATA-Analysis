{
 "cells": [
  {
   "cell_type": "markdown",
   "metadata": {},
   "source": [
    "<h1>Will I get delayed on my way to work?</h1>\n",
    "<h2>A WMATA Analysis from August 13th through September 8th. </h2>"
   ]
  },
  {
   "cell_type": "code",
   "execution_count": 1,
   "metadata": {
    "collapsed": true
   },
   "outputs": [],
   "source": [
    "#import packages\n",
    "import pandas as pd\n",
    "import numpy as np\n",
    "%matplotlib inline\n",
    "import seaborn as sns"
   ]
  },
  {
   "cell_type": "code",
   "execution_count": 2,
   "metadata": {
    "collapsed": false
   },
   "outputs": [
    {
     "name": "stdout",
     "output_type": "stream",
     "text": [
      "(37, 12) ['DateUpdated', 'DelaySeverity', 'Description', 'EmergencyText', 'EndLocationFullName', 'IncidentID', 'IncidentType', 'LinesAffected', 'PassengerDelay', 'StartLocationFullName', 'cleanTime', 'timeFlag']\n",
      "(29, 12)\n"
     ]
    }
   ],
   "source": [
    "#read in wmata twitter data\n",
    "wmata = pd.read_csv(\"wmata_info.csv\")\n",
    "# some delay alerts say 'No Longer Delayed' so add a flag\n",
    "# add a morning or afternoon flag\n",
    "wmata['cleanTime'] = pd.to_datetime(wmata['DateUpdated'],format='%Y-%m-%dT%H:%M:%S')\n",
    "wmata['timeFlag'] = ['Morning' if t.hour < 12 else 'Evening' for t in wmata['cleanTime']]\n",
    "print(wmata.shape, list(wmata))\n",
    "\n",
    "delays = wmata[[True if inc == \"Delay\" else False for inc in wmata['IncidentType']]]\n",
    "print(delays.shape)"
   ]
  },
  {
   "cell_type": "code",
   "execution_count": 3,
   "metadata": {
    "collapsed": false
   },
   "outputs": [
    {
     "name": "stdout",
     "output_type": "stream",
     "text": [
      "2017-08-13T18:44:12 2017-09-08T09:05:13\n"
     ]
    }
   ],
   "source": [
    "#describe min and max date for analysis dates\n",
    "#decribe frequency of lines affected\n",
    "print(min(delays['DateUpdated']), max(delays['DateUpdated']))"
   ]
  },
  {
   "cell_type": "code",
   "execution_count": 4,
   "metadata": {
    "collapsed": false
   },
   "outputs": [
    {
     "name": "stdout",
     "output_type": "stream",
     "text": [
      "BL     7\n",
      "GR    11\n",
      "OR     9\n",
      "RD     3\n",
      "SV    10\n",
      "YL     1\n",
      "dtype: int64\n"
     ]
    },
    {
     "data": {
      "text/html": [
       "<div>\n",
       "<table border=\"1\" class=\"dataframe\">\n",
       "  <thead>\n",
       "    <tr style=\"text-align: right;\">\n",
       "      <th></th>\n",
       "      <th>DateUpdated</th>\n",
       "      <th>DelaySeverity</th>\n",
       "      <th>Description</th>\n",
       "      <th>EmergencyText</th>\n",
       "      <th>EndLocationFullName</th>\n",
       "      <th>IncidentID</th>\n",
       "      <th>IncidentType</th>\n",
       "      <th>LinesAffected</th>\n",
       "      <th>PassengerDelay</th>\n",
       "      <th>StartLocationFullName</th>\n",
       "      <th>cleanTime</th>\n",
       "      <th>timeFlag</th>\n",
       "      <th>BL</th>\n",
       "      <th>GR</th>\n",
       "      <th>OR</th>\n",
       "      <th>RD</th>\n",
       "      <th>SV</th>\n",
       "      <th>YL</th>\n",
       "    </tr>\n",
       "  </thead>\n",
       "  <tbody>\n",
       "    <tr>\n",
       "      <th>2</th>\n",
       "      <td>2017-08-13T18:44:12</td>\n",
       "      <td>NaN</td>\n",
       "      <td>Red Line: Expect residual delays to Shady Grov...</td>\n",
       "      <td>NaN</td>\n",
       "      <td>NaN</td>\n",
       "      <td>DB6D8C85-672E-47E0-AACE-5A0B36466225</td>\n",
       "      <td>Delay</td>\n",
       "      <td>RD;</td>\n",
       "      <td>0</td>\n",
       "      <td>NaN</td>\n",
       "      <td>2017-08-13 18:44:12</td>\n",
       "      <td>Evening</td>\n",
       "      <td>0</td>\n",
       "      <td>0</td>\n",
       "      <td>0</td>\n",
       "      <td>1</td>\n",
       "      <td>0</td>\n",
       "      <td>0</td>\n",
       "    </tr>\n",
       "    <tr>\n",
       "      <th>7</th>\n",
       "      <td>2017-08-21T16:40:31</td>\n",
       "      <td>NaN</td>\n",
       "      <td>Blue/Yellow Line: Expect delays in both direct...</td>\n",
       "      <td>NaN</td>\n",
       "      <td>NaN</td>\n",
       "      <td>4974ACE4-DF8C-40B2-91FB-8B642A844F9A</td>\n",
       "      <td>Delay</td>\n",
       "      <td>BL;YL;</td>\n",
       "      <td>0</td>\n",
       "      <td>NaN</td>\n",
       "      <td>2017-08-21 16:40:31</td>\n",
       "      <td>Evening</td>\n",
       "      <td>1</td>\n",
       "      <td>0</td>\n",
       "      <td>0</td>\n",
       "      <td>0</td>\n",
       "      <td>0</td>\n",
       "      <td>1</td>\n",
       "    </tr>\n",
       "    <tr>\n",
       "      <th>8</th>\n",
       "      <td>2017-08-23T07:50:47</td>\n",
       "      <td>NaN</td>\n",
       "      <td>Silver Line: Expect delays to Wiehle-Reston Ea...</td>\n",
       "      <td>NaN</td>\n",
       "      <td>NaN</td>\n",
       "      <td>DCB6A7F1-4024-4ED3-B1CC-3EEBB47919D5</td>\n",
       "      <td>Delay</td>\n",
       "      <td>SV;</td>\n",
       "      <td>0</td>\n",
       "      <td>NaN</td>\n",
       "      <td>2017-08-23 07:50:47</td>\n",
       "      <td>Morning</td>\n",
       "      <td>0</td>\n",
       "      <td>0</td>\n",
       "      <td>0</td>\n",
       "      <td>0</td>\n",
       "      <td>1</td>\n",
       "      <td>0</td>\n",
       "    </tr>\n",
       "    <tr>\n",
       "      <th>9</th>\n",
       "      <td>2017-08-23T08:02:59</td>\n",
       "      <td>NaN</td>\n",
       "      <td>Silver Line: Expect residual delays to Wiehle-...</td>\n",
       "      <td>NaN</td>\n",
       "      <td>NaN</td>\n",
       "      <td>019815F4-BF0F-4932-9FB0-41F470FB1E32</td>\n",
       "      <td>Delay</td>\n",
       "      <td>SV;</td>\n",
       "      <td>0</td>\n",
       "      <td>NaN</td>\n",
       "      <td>2017-08-23 08:02:59</td>\n",
       "      <td>Morning</td>\n",
       "      <td>0</td>\n",
       "      <td>0</td>\n",
       "      <td>0</td>\n",
       "      <td>0</td>\n",
       "      <td>1</td>\n",
       "      <td>0</td>\n",
       "    </tr>\n",
       "    <tr>\n",
       "      <th>10</th>\n",
       "      <td>2017-08-23T08:12:04</td>\n",
       "      <td>NaN</td>\n",
       "      <td>Silver Line:  Normal service has resumed at Ea...</td>\n",
       "      <td>NaN</td>\n",
       "      <td>NaN</td>\n",
       "      <td>9675DC49-3EA9-4FE5-B8D6-79D616CDAEED</td>\n",
       "      <td>Delay</td>\n",
       "      <td>SV;</td>\n",
       "      <td>0</td>\n",
       "      <td>NaN</td>\n",
       "      <td>2017-08-23 08:12:04</td>\n",
       "      <td>Morning</td>\n",
       "      <td>0</td>\n",
       "      <td>0</td>\n",
       "      <td>0</td>\n",
       "      <td>0</td>\n",
       "      <td>1</td>\n",
       "      <td>0</td>\n",
       "    </tr>\n",
       "  </tbody>\n",
       "</table>\n",
       "</div>"
      ],
      "text/plain": [
       "            DateUpdated  DelaySeverity  \\\n",
       "2   2017-08-13T18:44:12            NaN   \n",
       "7   2017-08-21T16:40:31            NaN   \n",
       "8   2017-08-23T07:50:47            NaN   \n",
       "9   2017-08-23T08:02:59            NaN   \n",
       "10  2017-08-23T08:12:04            NaN   \n",
       "\n",
       "                                          Description  EmergencyText  \\\n",
       "2   Red Line: Expect residual delays to Shady Grov...            NaN   \n",
       "7   Blue/Yellow Line: Expect delays in both direct...            NaN   \n",
       "8   Silver Line: Expect delays to Wiehle-Reston Ea...            NaN   \n",
       "9   Silver Line: Expect residual delays to Wiehle-...            NaN   \n",
       "10  Silver Line:  Normal service has resumed at Ea...            NaN   \n",
       "\n",
       "    EndLocationFullName                            IncidentID IncidentType  \\\n",
       "2                   NaN  DB6D8C85-672E-47E0-AACE-5A0B36466225        Delay   \n",
       "7                   NaN  4974ACE4-DF8C-40B2-91FB-8B642A844F9A        Delay   \n",
       "8                   NaN  DCB6A7F1-4024-4ED3-B1CC-3EEBB47919D5        Delay   \n",
       "9                   NaN  019815F4-BF0F-4932-9FB0-41F470FB1E32        Delay   \n",
       "10                  NaN  9675DC49-3EA9-4FE5-B8D6-79D616CDAEED        Delay   \n",
       "\n",
       "   LinesAffected  PassengerDelay  StartLocationFullName           cleanTime  \\\n",
       "2            RD;               0                    NaN 2017-08-13 18:44:12   \n",
       "7         BL;YL;               0                    NaN 2017-08-21 16:40:31   \n",
       "8            SV;               0                    NaN 2017-08-23 07:50:47   \n",
       "9            SV;               0                    NaN 2017-08-23 08:02:59   \n",
       "10           SV;               0                    NaN 2017-08-23 08:12:04   \n",
       "\n",
       "   timeFlag  BL  GR  OR  RD  SV  YL  \n",
       "2   Evening   0   0   0   1   0   0  \n",
       "7   Evening   1   0   0   0   0   1  \n",
       "8   Morning   0   0   0   0   1   0  \n",
       "9   Morning   0   0   0   0   1   0  \n",
       "10  Morning   0   0   0   0   1   0  "
      ]
     },
     "execution_count": 4,
     "metadata": {},
     "output_type": "execute_result"
    }
   ],
   "source": [
    "lines = delays['LinesAffected'].str.get_dummies(sep=';')\n",
    "delays2 = pd.concat([delays, lines], axis=1)\n",
    "print(lines.apply(sum, axis=0))\n",
    "delays2.head(5)"
   ]
  },
  {
   "cell_type": "code",
   "execution_count": 5,
   "metadata": {
    "collapsed": false
   },
   "outputs": [
    {
     "name": "stdout",
     "output_type": "stream",
     "text": [
      "Green Line: Expect residual delays to Greenbelt due to an earlier police investigation at Suitland.\n",
      "**********\n",
      "Green Line: Single tracking btwn Navy Yard & L'Enfant Plaza due to a police investigation at Waterfront. Expect delays in both directions.\n",
      "**********\n",
      "Green Line: No longer single tracking. Expect residual delays in both directions due to an earlier police investigation at Waterfront.\n",
      "**********\n",
      "Green Line: Trains are single tracking btwn Greenbelt & College Park due to a disabled train outside Greenbelt. Delays in both directions.\n",
      "**********\n",
      "Green Line: No longer single tracking. Residual delays continue in both directions due to an earlier train malfunction outside Greenbelt.\n",
      "**********\n",
      "Green Line: Delays possible in both directions due to post-baseball game travel at Navy Yard station.\n",
      "**********\n",
      "Green Line: Expect residual delays to Branch Avenue due to an earlier train malfunction at PG Plaza.\n",
      "**********\n",
      "Green Line: Expect delays to Greenbelt due to a disabled train at Waterfront.\n",
      "**********\n",
      "Green Line: Expect residual delays to Greenbelt due to an earlier train malfunction at Waterfront.\n",
      "**********\n",
      "Green Line: Single tracking through Mt. Vernon Sq due to a medical emergency at Mt. Vernon Sq. Expect delays in both directions.\n",
      "**********\n",
      "Green Line: No longer single tracking. Residual delays continue in both directions due to an earlier medical emergency at Mt Vernon Sq.\n",
      "**********\n"
     ]
    }
   ],
   "source": [
    "#look at green line\n",
    "for d in delays2.loc[[True if d == 1 else False for d in delays2['GR']],'Description']:\n",
    "    print(d)\n",
    "    print('*'*10)"
   ]
  },
  {
   "cell_type": "markdown",
   "metadata": {},
   "source": [
    "<h2>Analyze Twitter Data"
   ]
  },
  {
   "cell_type": "code",
   "execution_count": 6,
   "metadata": {
    "collapsed": false
   },
   "outputs": [
    {
     "data": {
      "text/html": [
       "<div>\n",
       "<table border=\"1\" class=\"dataframe\">\n",
       "  <thead>\n",
       "    <tr style=\"text-align: right;\">\n",
       "      <th></th>\n",
       "      <th>id</th>\n",
       "      <th>created_at</th>\n",
       "      <th>text</th>\n",
       "      <th>favorite_count</th>\n",
       "      <th>retweet_count</th>\n",
       "      <th>created</th>\n",
       "      <th>cleaned_tweet</th>\n",
       "      <th>is_rt</th>\n",
       "      <th>is_angry</th>\n",
       "      <th>is_delay</th>\n",
       "      <th>is_ok</th>\n",
       "      <th>is_irrelevant</th>\n",
       "      <th>tweet_score</th>\n",
       "      <th>unhappy_score</th>\n",
       "    </tr>\n",
       "  </thead>\n",
       "  <tbody>\n",
       "    <tr>\n",
       "      <th>0</th>\n",
       "      <td>900860502603071488</td>\n",
       "      <td>Thu Aug 24 23:20:55 +0000 2017</td>\n",
       "      <td>@MetroRailInfo Red line car 3219 is a #wmata #...</td>\n",
       "      <td>0</td>\n",
       "      <td>0</td>\n",
       "      <td>2017-08-24 23:20:55</td>\n",
       "      <td>red line car  is a #wmata #hotcar ht . report...</td>\n",
       "      <td>False</td>\n",
       "      <td>True</td>\n",
       "      <td>False</td>\n",
       "      <td>False</td>\n",
       "      <td>False</td>\n",
       "      <td>0.0000</td>\n",
       "      <td>2</td>\n",
       "    </tr>\n",
       "    <tr>\n",
       "      <th>1</th>\n",
       "      <td>900858302606827520</td>\n",
       "      <td>Thu Aug 24 23:12:11 +0000 2017</td>\n",
       "      <td>@Astronomeous @unsuckdcmetro @alliehilda @Metr...</td>\n",
       "      <td>0</td>\n",
       "      <td>0</td>\n",
       "      <td>2017-08-24 23:12:11</td>\n",
       "      <td>i honestly thought that  told me to?</td>\n",
       "      <td>False</td>\n",
       "      <td>True</td>\n",
       "      <td>False</td>\n",
       "      <td>False</td>\n",
       "      <td>False</td>\n",
       "      <td>0.4588</td>\n",
       "      <td>2</td>\n",
       "    </tr>\n",
       "    <tr>\n",
       "      <th>2</th>\n",
       "      <td>900857884220821509</td>\n",
       "      <td>Thu Aug 24 23:10:31 +0000 2017</td>\n",
       "      <td>@unsuckdcmetro @alliehilda @Metrorailinfo Oh, ...</td>\n",
       "      <td>0</td>\n",
       "      <td>0</td>\n",
       "      <td>2017-08-24 23:10:31</td>\n",
       "      <td>oh, wait you mean a tax? i am ok with that....</td>\n",
       "      <td>False</td>\n",
       "      <td>True</td>\n",
       "      <td>True</td>\n",
       "      <td>False</td>\n",
       "      <td>False</td>\n",
       "      <td>0.3736</td>\n",
       "      <td>2</td>\n",
       "    </tr>\n",
       "    <tr>\n",
       "      <th>3</th>\n",
       "      <td>900855339385581569</td>\n",
       "      <td>Thu Aug 24 23:00:24 +0000 2017</td>\n",
       "      <td>@unsuckdcmetro @Randimations @alliehilda @Metr...</td>\n",
       "      <td>1</td>\n",
       "      <td>0</td>\n",
       "      <td>2017-08-24 23:00:24</td>\n",
       "      <td>not just us, doc... s sc peeps, montana, i...</td>\n",
       "      <td>False</td>\n",
       "      <td>True</td>\n",
       "      <td>False</td>\n",
       "      <td>False</td>\n",
       "      <td>False</td>\n",
       "      <td>0.3612</td>\n",
       "      <td>2</td>\n",
       "    </tr>\n",
       "    <tr>\n",
       "      <th>4</th>\n",
       "      <td>900853944800481280</td>\n",
       "      <td>Thu Aug 24 22:54:52 +0000 2017</td>\n",
       "      <td>RT @MetroHotCars: @MetroRailInfo Car 2043 is a...</td>\n",
       "      <td>0</td>\n",
       "      <td>1</td>\n",
       "      <td>2017-08-24 22:54:52</td>\n",
       "      <td>rt :  car  is a #wmata #hotcar ht . reported x...</td>\n",
       "      <td>False</td>\n",
       "      <td>True</td>\n",
       "      <td>False</td>\n",
       "      <td>False</td>\n",
       "      <td>False</td>\n",
       "      <td>0.0000</td>\n",
       "      <td>2</td>\n",
       "    </tr>\n",
       "  </tbody>\n",
       "</table>\n",
       "</div>"
      ],
      "text/plain": [
       "                   id                      created_at  \\\n",
       "0  900860502603071488  Thu Aug 24 23:20:55 +0000 2017   \n",
       "1  900858302606827520  Thu Aug 24 23:12:11 +0000 2017   \n",
       "2  900857884220821509  Thu Aug 24 23:10:31 +0000 2017   \n",
       "3  900855339385581569  Thu Aug 24 23:00:24 +0000 2017   \n",
       "4  900853944800481280  Thu Aug 24 22:54:52 +0000 2017   \n",
       "\n",
       "                                                text  favorite_count  \\\n",
       "0  @MetroRailInfo Red line car 3219 is a #wmata #...               0   \n",
       "1  @Astronomeous @unsuckdcmetro @alliehilda @Metr...               0   \n",
       "2  @unsuckdcmetro @alliehilda @Metrorailinfo Oh, ...               0   \n",
       "3  @unsuckdcmetro @Randimations @alliehilda @Metr...               1   \n",
       "4  RT @MetroHotCars: @MetroRailInfo Car 2043 is a...               0   \n",
       "\n",
       "   retweet_count             created  \\\n",
       "0              0 2017-08-24 23:20:55   \n",
       "1              0 2017-08-24 23:12:11   \n",
       "2              0 2017-08-24 23:10:31   \n",
       "3              0 2017-08-24 23:00:24   \n",
       "4              1 2017-08-24 22:54:52   \n",
       "\n",
       "                                       cleaned_tweet  is_rt is_angry is_delay  \\\n",
       "0   red line car  is a #wmata #hotcar ht . report...  False     True    False   \n",
       "1              i honestly thought that  told me to?   False     True    False   \n",
       "2     oh, wait you mean a tax? i am ok with that....  False     True     True   \n",
       "3      not just us, doc... s sc peeps, montana, i...  False     True    False   \n",
       "4  rt :  car  is a #wmata #hotcar ht . reported x...  False     True    False   \n",
       "\n",
       "   is_ok is_irrelevant  tweet_score  unhappy_score  \n",
       "0  False         False       0.0000              2  \n",
       "1  False         False       0.4588              2  \n",
       "2  False         False       0.3736              2  \n",
       "3  False         False       0.3612              2  \n",
       "4  False         False       0.0000              2  "
      ]
     },
     "execution_count": 6,
     "metadata": {},
     "output_type": "execute_result"
    }
   ],
   "source": [
    "tweets = pd.read_csv(\"tweets_cleaned2.csv\",encoding='utf-8')\n",
    "tweets['created'] = pd.to_datetime(tweets['created_at'])\n",
    "tweets.head(5)"
   ]
  },
  {
   "cell_type": "code",
   "execution_count": 7,
   "metadata": {
    "collapsed": false
   },
   "outputs": [
    {
     "data": {
      "text/plain": [
       "<matplotlib.axes._subplots.AxesSubplot at 0x2a6d4645390>"
      ]
     },
     "execution_count": 7,
     "metadata": {},
     "output_type": "execute_result"
    },
    {
     "data": {
      "image/png": "[encoded data removed]",
      "text/plain": [
       "<matplotlib.figure.Figure at 0x2a6d4645cf8>"
      ]
     },
     "metadata": {},
     "output_type": "display_data"
    }
   ],
   "source": [
    "tweets[[True if t==False else False for t in tweets['is_rt']]].plot(x='tweet_score',y='unhappy_score',kind='scatter')"
   ]
  },
  {
   "cell_type": "code",
   "execution_count": 8,
   "metadata": {
    "collapsed": false
   },
   "outputs": [],
   "source": [
    "#let's look at positive tweet scores but higher unhappy score\n",
    "def cut_offs(unhappy, tweet):\n",
    "    b1, b2 = tweets['unhappy_score']>unhappy , tweets['tweet_score']>tweet\n",
    "    for t in tweets.loc[b1 & b2, 'text']:\n",
    "        print(t)"
   ]
  },
  {
   "cell_type": "code",
   "execution_count": 9,
   "metadata": {
    "collapsed": false
   },
   "outputs": [
    {
     "name": "stdout",
     "output_type": "stream",
     "text": [
      "Hey @Metrorailinfo, this time, does \"police activity\" mean shooting like at Col. Hts. Friday? Asking for a friend. #wmata\n",
      "@Metrorailinfo So you expect a passenger to wait at a locked gate for 18 minutes past opening time just hoping the? https://t.co/NlKqPyssWr\n",
      "@Metrorailinfo Well, yes. Delays of 10+ min are a good reason to alert customers of speed restrictions, even if they might vary.\n",
      "Hey @Metrorailinfo, this time, does \"police activity\" mean shooting like at Col. Hts. Friday? Asking for a friend. #wmata\n",
      "#WMATA, BE BETTER. Raining (* ?) inside #Braddock shelter as it has been for MONTHS. @Metrorailinfo cc:? https://t.co/VyG2HqAiwx\n"
     ]
    }
   ],
   "source": [
    "cut_offs(10, 0.5)\n",
    "cut_offs(5, 0)"
   ]
  },
  {
   "cell_type": "code",
   "execution_count": 10,
   "metadata": {
    "collapsed": false
   },
   "outputs": [
    {
     "name": "stdout",
     "output_type": "stream",
     "text": [
      "Green Line: Single tracking btwn Navy Yard & L'Enfant Plaza due to a police investigation at Waterfront. Expect delays in both directions.\n",
      "Green Line: No longer single tracking. Expect residual delays in both directions due to an earlier police investigation at Waterfront.\n"
     ]
    }
   ],
   "source": [
    "for d in delays.loc[[16, 17], 'Description']:\n",
    "    print(d)"
   ]
  },
  {
   "cell_type": "markdown",
   "metadata": {},
   "source": [
    "<h3>The new goal is to flag similar time frames and get closest alert to WMATA analysis "
   ]
  },
  {
   "cell_type": "code",
   "execution_count": 11,
   "metadata": {
    "collapsed": true
   },
   "outputs": [],
   "source": [
    "from datetime import timedelta\n",
    "#time_difference = a - b\n",
    "#time_difference_in_minutes = time_difference / timedelta(minutes=1)\n"
   ]
  },
  {
   "cell_type": "code",
   "execution_count": 12,
   "metadata": {
    "collapsed": false
   },
   "outputs": [],
   "source": [
    "def combine_wmata_data(twitter, wmata_data):\n",
    "    wmata_delay = []\n",
    "    for i in range(twitter.shape[0]):\n",
    "        day = twitter.loc[i, 'created']\n",
    "        tweet_day = twitter.loc[i,'created'].day\n",
    "        day_boolean = [True if t.day==tweet_day else False for t in wmata_data['cleanTime']]\n",
    "        wmata_sub = wmata_data[day_boolean]\n",
    "        if wmata_sub.shape[0] == 0:\n",
    "            wmata_delay.append('')\n",
    "        else:\n",
    "            time_differences = [(day - t)/timedelta(minutes=1) for t in wmata_sub['cleanTime']]\n",
    "            if any(abs(t)<=30 for t in time_differences):\n",
    "                index = [abs(t)<=30 for t in time_differences]\n",
    "                incidents = list(wmata_sub.loc[index, 'IncidentID'])\n",
    "                wmata_delay.append(incidents)\n",
    "            else:\n",
    "                wmata_delay.append('')\n",
    "    return(wmata_delay)\n"
   ]
  },
  {
   "cell_type": "code",
   "execution_count": 13,
   "metadata": {
    "collapsed": false
   },
   "outputs": [
    {
     "data": {
      "text/plain": [
       "8"
      ]
     },
     "execution_count": 13,
     "metadata": {},
     "output_type": "execute_result"
    }
   ],
   "source": [
    "tweets.index = range(tweets.shape[0])\n",
    "incidents = combine_wmata_data(tweets, delays2)\n",
    "new_tweets = tweets.assign(incidentID=incidents)\n",
    "sum([1 if t != '' else 0 for t in incidents]) #only 8 matches"
   ]
  },
  {
   "cell_type": "code",
   "execution_count": 14,
   "metadata": {
    "collapsed": false
   },
   "outputs": [
    {
     "name": "stdout",
     "output_type": "stream",
     "text": [
      "@tylerkraus @unsuckdcmetro @wmata @Metrorailinfo @nihilist_arbys I think I'd take my luck with Metro before Arby's.\n",
      "['Red Line: Expect residual delays to Shady Grove due to an earlier train malfunction at Bethesda.']\n",
      "****\n",
      "@Metrorailinfo Well, yes. Delays of 10+ min are a good reason to alert customers of speed restrictions, even if they might vary.\n",
      "['Red Line: Expect residual delays to Shady Grove due to an earlier train malfunction at Bethesda.']\n",
      "['Red Line: Expect residual delays to Shady Grove due to an earlier train malfunction at Bethesda.']\n",
      "****\n",
      "@Metrorailinfo Then why aren't you conveying this to riders? It affects people's ability to make bus connections and be on time in general.\n",
      "['Green Line: Expect residual delays to Greenbelt due to an earlier police investigation at Suitland.']\n",
      "****\n",
      "RT @Metrorailinfo: Org/Slv Line: Trains single tracking btwn Foggy Bottom &amp; Clarendon due to track problem outside Rosslyn. Expect delays i?\n",
      "['Green Line: No longer single tracking. Expect residual delays in both directions due to an earlier police investigation at Waterfront.']\n",
      "****\n",
      "RT @Metrorailinfo: Org/Slv Line: Trains single tracking btwn Foggy Bottom &amp; Clarendon due to track problem outside Rosslyn. Expect delays i?\n",
      "['Green Line: No longer single tracking. Expect residual delays in both directions due to an earlier police investigation at Waterfront.']\n",
      "****\n",
      "RT @Metrorailinfo: Blue Line: Trains single tracking btwn Foggy Bottom &amp; Arlington Cemetery due to track problem outside Rosslyn. Expect de?\n",
      "['Green Line: No longer single tracking. Expect residual delays in both directions due to an earlier police investigation at Waterfront.']\n",
      "****\n",
      "RT @Metrorailinfo: Blue/Silver Line: Normal service has resumed at Largo Town Center.\n",
      "['Green Line: No longer single tracking. Expect residual delays in both directions due to an earlier police investigation at Waterfront.']\n",
      "['Green Line: No longer single tracking. Expect residual delays in both directions due to an earlier police investigation at Waterfront.']\n",
      "****\n",
      "RT @Metrorailinfo: Blue/Silver Line: Normal service has resumed at Largo Town Center.\n",
      "['Green Line: No longer single tracking. Expect residual delays in both directions due to an earlier police investigation at Waterfront.']\n",
      "['Green Line: No longer single tracking. Expect residual delays in both directions due to an earlier police investigation at Waterfront.']\n",
      "****\n"
     ]
    }
   ],
   "source": [
    "twitter_look = new_tweets[new_tweets['incidentID'] != '' ]\n",
    "twitter_look.index = range(twitter_look.shape[0])\n",
    "for i in range(twitter_look.shape[0]):\n",
    "    print(twitter_look.loc[i, 'text'])\n",
    "    if len(twitter_look.loc[i, 'incidentID'])==1:\n",
    "        val = twitter_look.loc[i, 'incidentID'][0]\n",
    "        print(list(delays2.loc[delays2['IncidentID']==val,'Description']))\n",
    "    else:\n",
    "        for ids in (twitter_look.loc[i, 'incidentID']):\n",
    "                    vals = twitter_look.loc[i, 'incidentID']\n",
    "                    print(list(delays2.loc[delays2['IncidentID']==val,'Description']))\n",
    "    print('****')\n",
    "# most posts are not really related to the wmata api"
   ]
  }
 ],
 "metadata": {
  "anaconda-cloud": {},
  "kernelspec": {
   "display_name": "Python [default]",
   "language": "python",
   "name": "python3"
  },
  "language_info": {
   "codemirror_mode": {
    "name": "ipython",
    "version": 3
   },
   "file_extension": ".py",
   "mimetype": "text/x-python",
   "name": "python",
   "nbconvert_exporter": "python",
   "pygments_lexer": "ipython3",
   "version": "3.5.2"
  }
 },
 "nbformat": 4,
 "nbformat_minor": 1
}
